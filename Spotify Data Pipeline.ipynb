{
 "cells": [
  {
   "cell_type": "code",
   "execution_count": 1,
   "metadata": {},
   "outputs": [],
   "source": [
    "from dotenv import load_dotenv\n",
    "import os\n",
    "import pandas as pd"
   ]
  },
  {
   "cell_type": "code",
   "execution_count": 2,
   "metadata": {},
   "outputs": [],
   "source": [
    "load_dotenv()\n",
    "\n",
    "SPOTIFY_CLIENT_ID = os.getenv('SPOTIFY_CLIENT_ID')\n",
    "SPOTIFY_CLIENT_SECRET = os.getenv('SPOTIFY_CLIENT_SECRET')"
   ]
  },
  {
   "cell_type": "code",
   "execution_count": 3,
   "metadata": {},
   "outputs": [],
   "source": [
    "import spotipy\n",
    "from spotipy.oauth2 import SpotifyClientCredentials"
   ]
  },
  {
   "cell_type": "code",
   "execution_count": 4,
   "metadata": {},
   "outputs": [],
   "source": [
    "client_credentials_manager = SpotifyClientCredentials(client_id=SPOTIFY_CLIENT_ID,client_secret=SPOTIFY_CLIENT_SECRET)"
   ]
  },
  {
   "cell_type": "code",
   "execution_count": 5,
   "metadata": {},
   "outputs": [],
   "source": [
    "sp = spotipy.Spotify(client_credentials_manager=client_credentials_manager)"
   ]
  },
  {
   "cell_type": "code",
   "execution_count": 6,
   "metadata": {},
   "outputs": [],
   "source": [
    "playlist_link = 'https://open.spotify.com/playlist/4hOKQuZbraPDIfaGbM3lKI'"
   ]
  },
  {
   "cell_type": "code",
   "execution_count": 7,
   "metadata": {},
   "outputs": [],
   "source": [
    "playlist_URI = playlist_link.split('/')[-1].split('?')[0]"
   ]
  },
  {
   "cell_type": "code",
   "execution_count": 8,
   "metadata": {},
   "outputs": [],
   "source": [
    "data = sp.playlist_tracks(playlist_URI)"
   ]
  },
  {
   "cell_type": "code",
   "execution_count": 9,
   "metadata": {},
   "outputs": [
    {
     "data": {
      "text/plain": [
       "'3smvpv7CdrhVcGYaNDLOqn'"
      ]
     },
     "execution_count": 9,
     "metadata": {},
     "output_type": "execute_result"
    }
   ],
   "source": [
    "data['items'][0]['track']['album']['id']"
   ]
  },
  {
   "cell_type": "code",
   "execution_count": 10,
   "metadata": {},
   "outputs": [
    {
     "data": {
      "text/plain": [
       "'Despacito Feat. Justin Bieber (Remix)'"
      ]
     },
     "execution_count": 10,
     "metadata": {},
     "output_type": "execute_result"
    }
   ],
   "source": [
    "data['items'][0]['track']['album']['name']"
   ]
  },
  {
   "cell_type": "code",
   "execution_count": 11,
   "metadata": {},
   "outputs": [
    {
     "data": {
      "text/plain": [
       "'2017-04-17'"
      ]
     },
     "execution_count": 11,
     "metadata": {},
     "output_type": "execute_result"
    }
   ],
   "source": [
    "data['items'][0]['track']['album']['release_date']"
   ]
  },
  {
   "cell_type": "code",
   "execution_count": 12,
   "metadata": {},
   "outputs": [
    {
     "data": {
      "text/plain": [
       "1"
      ]
     },
     "execution_count": 12,
     "metadata": {},
     "output_type": "execute_result"
    }
   ],
   "source": [
    "data['items'][0]['track']['album']['total_tracks']"
   ]
  },
  {
   "cell_type": "code",
   "execution_count": 13,
   "metadata": {},
   "outputs": [
    {
     "data": {
      "text/plain": [
       "'https://open.spotify.com/album/3smvpv7CdrhVcGYaNDLOqn'"
      ]
     },
     "execution_count": 13,
     "metadata": {},
     "output_type": "execute_result"
    }
   ],
   "source": [
    "data['items'][0]['track']['album']['external_urls']['spotify']"
   ]
  },
  {
   "cell_type": "code",
   "execution_count": 14,
   "metadata": {},
   "outputs": [],
   "source": [
    "album_list =[]\n",
    "for row in data['items']:\n",
    "    album_id = row['track']['album']['total_tracks']\n",
    "    album_name = row['track']['album']['name']\n",
    "    album_release_date = row['track']['album']['release_date']\n",
    "    album_total_tracks = row['track']['album']['total_tracks']\n",
    "    album_url = row['track']['album']['external_urls']['spotify']\n",
    "    album_element={\n",
    "        'album_id':album_id,\n",
    "        'name':album_name,\n",
    "        'release_date':album_release_date,\n",
    "        'total_tracks':album_total_tracks,\n",
    "        'url':album_url\n",
    "    }\n",
    "    album_list.append(album_element)"
   ]
  },
  {
   "cell_type": "code",
   "execution_count": 15,
   "metadata": {},
   "outputs": [],
   "source": [
    "artist_list = []\n",
    "for row in data['items']:\n",
    "    for key,value in row.items():\n",
    "        if key == 'track':\n",
    "            for artist in value['artists']:\n",
    "                artist_element={\n",
    "                    'artist_id': artist['id'],\n",
    "                    'artist_name': artist['name'],\n",
    "                    'external_url': artist['href']\n",
    "                }\n",
    "                artist_list.append(artist_element)"
   ]
  },
  {
   "cell_type": "code",
   "execution_count": 16,
   "metadata": {},
   "outputs": [],
   "source": [
    "song_list = []\n",
    "for row in data['items']:\n",
    "    song_id = row['track']['id']\n",
    "    song_name = row['track']['name']\n",
    "    song_duration = row['track']['duration_ms']\n",
    "    song_url = row['track']['external_urls']['spotify']\n",
    "    song_popularity = row['track']['popularity']\n",
    "    song_added = row['added_at']\n",
    "    album_id = row['track']['album']['id']\n",
    "    artist_id = row['track']['album']['artists'][0]['id']\n",
    "    song_element = {\n",
    "        'song_id':song_id,\n",
    "        'song_name':song_name,\n",
    "        'duration_ms':song_duration,\n",
    "        'url':song_url,\n",
    "        'popularity':song_popularity,\n",
    "        'song_added':song_added,\n",
    "        'album_id':album_id,\n",
    "        'artist_id':artist_id\n",
    "    }\n",
    "    song_list.append(song_element)"
   ]
  },
  {
   "cell_type": "code",
   "execution_count": 17,
   "metadata": {},
   "outputs": [],
   "source": [
    "album_df = pd.DataFrame.from_dict(album_list)\n",
    "song_df = pd.DataFrame.from_dict(song_list)\n",
    "artist_df = pd.DataFrame.from_dict(artist_list)"
   ]
  },
  {
   "cell_type": "code",
   "execution_count": 18,
   "metadata": {},
   "outputs": [],
   "source": [
    "album_df = album_df.drop_duplicates(subset=['album_id'])\n",
    "song_df = song_df.drop_duplicates(subset=['song_id'])\n",
    "artist_df = artist_df.drop_duplicates(subset=['artist_id'])"
   ]
  },
  {
   "cell_type": "code",
   "execution_count": 20,
   "metadata": {},
   "outputs": [
    {
     "data": {
      "text/plain": [
       "0     2017-04-17\n",
       "2     2017-03-03\n",
       "3     2017-04-14\n",
       "4     2017-08-04\n",
       "5     2017-04-07\n",
       "11    2016-11-17\n",
       "15    2017-03-18\n",
       "16    2017-05-12\n",
       "26    2016-12-09\n",
       "28    2017-05-05\n",
       "38    2017-04-27\n",
       "41    2016-10-14\n",
       "47    2017-01-20\n",
       "74    2016-05-06\n",
       "91    2016-07-15\n",
       "92    2017-01-19\n",
       "93    2016-12-02\n",
       "Name: release_date, dtype: object"
      ]
     },
     "execution_count": 20,
     "metadata": {},
     "output_type": "execute_result"
    }
   ],
   "source": [
    "album_df['release_date'] = pd.to_datetime(album_df['release_date'])\n",
    "song_df['duration_ms'] = pd.to_datetime(song_df['duration_ms'])"
   ]
  },
  {
   "cell_type": "code",
   "execution_count": null,
   "metadata": {},
   "outputs": [],
   "source": []
  }
 ],
 "metadata": {
  "kernelspec": {
   "display_name": "spotify_env",
   "language": "python",
   "name": "python3"
  },
  "language_info": {
   "codemirror_mode": {
    "name": "ipython",
    "version": 3
   },
   "file_extension": ".py",
   "mimetype": "text/x-python",
   "name": "python",
   "nbconvert_exporter": "python",
   "pygments_lexer": "ipython3",
   "version": "3.10.14"
  }
 },
 "nbformat": 4,
 "nbformat_minor": 2
}
